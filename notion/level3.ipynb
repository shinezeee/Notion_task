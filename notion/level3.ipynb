{
 "cells": [
  {
   "cell_type": "markdown",
   "metadata": {
    "id": "WXEwMsfUct7U"
   },
   "source": [
    "안녕하세요.<br><br>\n",
    "수강생 여러분~! \n",
    "\n",
    "\"Challenge : 사칙연산을 이용해 문제 풀기\"는 잘 풀어보셨나요?\n",
    "\n",
    "\n",
    "너~~무 어려웠어요! 하는 분들을 위해 만들어봤습니다!\n",
    "\n",
    "문제 도장깨기 !!!!!\n",
    "\n",
    "수학적 사고도 한번 길러보세용 :)\n",
    "\n",
    "차근차근 풀어나가면 파이썬 정복 가능입니다!\n",
    "\n",
    "화이팅 !\n",
    "\n",
    "\n",
    "Chapter04의 수업 내용을 바탕으로 아래 문제를 풀어주시면 됩니다.\n",
    "\n",
    "<br>\n",
    "\n",
    "[**답변 입력 방법**]\n",
    "\n",
    "문제 아래에 있는 코드 입력창에 정답코드를 작성하신 후  __▷ 버튼을 클릭해 코드를 실행__ 해보세요<br>\n",
    "<br>"
   ]
  },
  {
   "cell_type": "markdown",
   "metadata": {
    "id": "qoyC9wF-3hvs"
   },
   "source": [
    "-----"
   ]
  },
  {
   "cell_type": "markdown",
   "metadata": {},
   "source": [
    "<br>\n",
    "\n",
    "__[문제1]__\n",
    "\n",
    "어떤 공원의 크기는 가로 50m, 세로 30m입니다. \n",
    "\n",
    "공원 내부에 5개의 조형물이 있으며, 각 조형물의 면적은 10m²입니다. \n",
    "\n",
    "이 공원의 실제 사용 면적을 구하세요. (cm로 구해주세요)\n",
    "\n",
    "\n"
   ]
  },
  {
   "cell_type": "code",
   "execution_count": 32,
   "metadata": {},
   "outputs": [
    {
     "name": "stdout",
     "output_type": "stream",
     "text": [
      "14500000 cm²\n"
     ]
    }
   ],
   "source": [
    "width=50 # 공원 가로 길이(m)\n",
    "height=30 # 공원 세로 길이(m)\n",
    "sculptures=5 # 조형물 개수 \n",
    "sculptures_area=10 # 조형물 하나의 면적(m²)\n",
    "\n",
    "area=(width*height-sculptures*sculptures_area)*10000\n",
    "\n",
    "print(area,\"cm²\")"
   ]
  },
  {
   "cell_type": "code",
   "execution_count": 11,
   "metadata": {},
   "outputs": [
    {
     "data": {
      "text/plain": [
       "'10,000,000'"
      ]
     },
     "execution_count": 11,
     "metadata": {},
     "output_type": "execute_result"
    }
   ],
   "source": [
    "number=10000000\n",
    "\"{:,}\".format(number)"
   ]
  },
  {
   "cell_type": "markdown",
   "metadata": {},
   "source": [
    "<br>\n",
    "\n",
    "__[문제2]__\n",
    "\n",
    "2권씩 묶여서 팔리는 책의 가격은 12,000원입니다. \n",
    "\n",
    "나는 3묶음을 살 겁니다.\n",
    "\n",
    "근데 최종 가격을 보니 10%의 세금이 붙어있습니다.\n",
    "\n",
    "최종 가격을 구해주세요."
   ]
  },
  {
   "cell_type": "code",
   "execution_count": 33,
   "metadata": {},
   "outputs": [],
   "source": [
    "price=12_000 # 2권 묶음 가격\n",
    "packs=3 # 구매할 묶음 개수\n",
    "tax=0.1 # 세금 (10%)\n",
    "\n",
    "final_price=price*packs*(1+tax)\n",
    "\n"
   ]
  },
  {
   "cell_type": "code",
   "execution_count": 36,
   "metadata": {},
   "outputs": [
    {
     "name": "stdout",
     "output_type": "stream",
     "text": [
      "39600 원\n"
     ]
    }
   ],
   "source": [
    "print(int(12000*3*1.1),\"원\")"
   ]
  },
  {
   "cell_type": "markdown",
   "metadata": {},
   "source": [
    "<br>\n",
    "\n",
    "__[문제3]__\n",
    "\n",
    "가로 20m, 세로 15m인 직사각형 정원의 면적을 구하세요.\n"
   ]
  },
  {
   "cell_type": "code",
   "execution_count": null,
   "metadata": {
    "id": "74wtVQFFc_h1"
   },
   "outputs": [
    {
     "name": "stdout",
     "output_type": "stream",
     "text": [
      "300 m²\n"
     ]
    }
   ],
   "source": [
    "width=20 # 정원 가로 길이 (m)\n",
    "height=15 # 정원 세로 길이 (m)\n",
    "\n",
    "graden_area=width*height"
   ]
  },
  {
   "cell_type": "markdown",
   "metadata": {},
   "source": [
    "<br>\n",
    "\n",
    "__[문제3-1]__\n",
    "\n",
    "문제 1에서 구한 정원의 면적에서, 정원의 5%를 차지하는 풀밭 면적을 구하세요.\n",
    "\n",
    "\n"
   ]
  },
  {
   "cell_type": "code",
   "execution_count": 45,
   "metadata": {},
   "outputs": [
    {
     "data": {
      "text/plain": [
       "15.0"
      ]
     },
     "execution_count": 45,
     "metadata": {},
     "output_type": "execute_result"
    }
   ],
   "source": [
    "300 * 0.05"
   ]
  },
  {
   "cell_type": "markdown",
   "metadata": {
    "id": "2Jte2VLKdiPm"
   },
   "source": [
    "__[문제3-2]__\n",
    "\n",
    "풀밭 면적을 제외한 나머지 정원의 면적에 나무를 심고 싶습니다.\n",
    "\n",
    "나무 1그루가 차지하는 면적이 2m²일 때, 심을 수 있는 나무의 최대 개수를 구하세요."
   ]
  },
  {
   "cell_type": "code",
   "execution_count": 46,
   "metadata": {},
   "outputs": [
    {
     "data": {
      "text/plain": [
       "142"
      ]
     },
     "execution_count": 46,
     "metadata": {},
     "output_type": "execute_result"
    }
   ],
   "source": [
    "(300 - 15) // 2"
   ]
  },
  {
   "cell_type": "code",
   "execution_count": 44,
   "metadata": {},
   "outputs": [
    {
     "name": "stdout",
     "output_type": "stream",
     "text": [
      "문제 3-1의 답 : 15.0 m²\n",
      "문제 3-2의 답 : 142 그루\n"
     ]
    }
   ],
   "source": [
    "width=20 # 정원 가로 길이 (m)\n",
    "height=15 # 정원 세로 길이 (m)\n",
    "grass=0.05 # 풀밭 차지비율\n",
    "tree=2 # 나무 한그루당 면적 (m²)\n",
    "\n",
    "# 문제 3 : 정원의 면적\n",
    "garden_area=width*height # 정원 면적\n",
    "\n",
    "# 문제 3-1 : 풀밭의 면적 \n",
    "grass_area=garden_area*grass # 풀밭 면적\n",
    "\n",
    "# 문제 3-2 : 나무를 최대 심을 수 있는 개수\n",
    "remaining_area=garden_area-grass_area # 나무 심을 수 있는 나머지 면적\n",
    "trees=remaining_area//tree # 최대 나무 개수\n",
    "\n",
    "\n",
    "print(\"문제 3-1의 답\",\":\",grass_area,\"m²\")\n",
    "\n",
    "print(\"문제 3-2의 답\",\":\",int(trees),\"그루\")"
   ]
  }
 ],
 "metadata": {
  "colab": {
   "authorship_tag": "ABX9TyM3gebHvdgzn1rFsPHWTyo9",
   "provenance": []
  },
  "kernelspec": {
   "display_name": "Python 3",
   "name": "python3"
  },
  "language_info": {
   "codemirror_mode": {
    "name": "ipython",
    "version": 3
   },
   "file_extension": ".py",
   "mimetype": "text/x-python",
   "name": "python",
   "nbconvert_exporter": "python",
   "pygments_lexer": "ipython3",
   "version": "3.9.6"
  }
 },
 "nbformat": 4,
 "nbformat_minor": 0
}
